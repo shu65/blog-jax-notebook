{
  "nbformat": 4,
  "nbformat_minor": 0,
  "metadata": {
    "colab": {
      "name": "JAX-01-jit",
      "provenance": [],
      "collapsed_sections": [],
      "authorship_tag": "ABX9TyN3h4QH6AgsUneNwWLaQAzz",
      "include_colab_link": true
    },
    "kernelspec": {
      "display_name": "Python 3",
      "name": "python3"
    },
    "language_info": {
      "name": "python"
    }
  },
  "cells": [
    {
      "cell_type": "markdown",
      "metadata": {
        "id": "view-in-github",
        "colab_type": "text"
      },
      "source": [
        "<a href=\"https://colab.research.google.com/github/shu65/blog-jax-notebook/blob/main/JAX_01_jit.ipynb\" target=\"_parent\"><img src=\"https://colab.research.google.com/assets/colab-badge.svg\" alt=\"Open In Colab\"/></a>"
      ]
    },
    {
      "cell_type": "code",
      "metadata": {
        "colab": {
          "base_uri": "https://localhost:8080/"
        },
        "id": "l5lrT-gkCqxJ",
        "outputId": "9a8aabcc-0e57-4022-95c9-48faeeda6312"
      },
      "source": [
        "import numpy as np\n",
        "\n",
        "match_score = 1\n",
        "mismatch_score = -1\n",
        "gap_score = -2\n",
        "\n",
        "n = 32\n",
        "len_seq0 = 16\n",
        "len_seq1 = 16\n",
        "\n",
        "num_chars = 4\n",
        "\n",
        "sequences0 = np.random.randint(low=0, high=num_chars, size=(len_seq0,n))\n",
        "sequences1 = np.random.randint(low=0, high=num_chars, size=(len_seq1,n))\n",
        "\n",
        "sequences0.shape, sequences1.shape"
      ],
      "execution_count": 1,
      "outputs": [
        {
          "output_type": "execute_result",
          "data": {
            "text/plain": [
              "((16, 32), (16, 32))"
            ]
          },
          "metadata": {},
          "execution_count": 1
        }
      ]
    },
    {
      "cell_type": "code",
      "metadata": {
        "id": "btbOqIKMU_WD"
      },
      "source": [
        "import numpy as np\n",
        "\n",
        "def smith_waterman_numpy(sequences0, sequences1):\n",
        "  n = sequences0.shape[1]\n",
        "  len_seq0 = sequences0.shape[0]\n",
        "  len_seq1 = sequences1.shape[0]\n",
        "\n",
        "  prev_score = np.empty((n), dtype=np.int)\n",
        "  tmp_cell_score = np.zeros((4, n), dtype=np.int)\n",
        "  tmp_score = np.empty((n), dtype=np.int)\n",
        "  cell_score = np.empty((n), dtype=np.int)\n",
        "\n",
        "  score_array = np.zeros((len_seq1 + 1, n), dtype=np.int)\n",
        "  tmp_best_score = np.empty((2, n), dtype=np.int)\n",
        "  best_score = np.full((n), fill_value=-1, dtype=np.int)\n",
        "  for i0 in range(len_seq0):\n",
        "    c0 = sequences0[i0]\n",
        "    prev_score[:] = 0\n",
        "    for i1 in range(len_seq1):\n",
        "      c1 = sequences1[i1]\n",
        "      tmp_score[:] = match_score\n",
        "      tmp_score[c0 != c1] = mismatch_score\n",
        "      tmp_score += prev_score\n",
        "      tmp_cell_score[1, :] = tmp_score\n",
        "      tmp_cell_score[2, :] = score_array[i1, :] + gap_score\n",
        "      tmp_cell_score[3, :] = score_array[i1 + 1, :] + gap_score\n",
        "\n",
        "      np.max(tmp_cell_score, axis=0, out=cell_score)\n",
        "      tmp_best_score[0, :] = best_score\n",
        "      tmp_best_score[1, :] = cell_score\n",
        "      np.max(tmp_best_score, axis=0, out=best_score)\n",
        "\n",
        "      prev_score[:] = score_array[i1 + 1, :]\n",
        "      score_array[i1 + 1, :] = cell_score[:]\n",
        "  return best_score"
      ],
      "execution_count": 2,
      "outputs": []
    },
    {
      "cell_type": "code",
      "metadata": {
        "colab": {
          "base_uri": "https://localhost:8080/"
        },
        "id": "zzpDztGIW6L-",
        "outputId": "7cba381f-0470-4b79-a839-65ff7a8c9270"
      },
      "source": [
        "import time\n",
        "\n",
        "loop = 5\n",
        "\n",
        "start_time = time.process_time()\n",
        "best_score = smith_waterman_numpy(sequences0, sequences1)\n",
        "end_time = time.process_time()\n",
        "print(\"Elapsed time of the first call: \", (end_time - start_time), \"sec.\")\n",
        "\n",
        "start_time = time.process_time()\n",
        "for _ in range(loop):\n",
        "  best_score = smith_waterman_numpy(sequences0, sequences1)\n",
        "end_time = time.process_time()\n",
        "print(\"Mean elapsed time: \", (end_time - start_time)/loop, \"sec.\")"
      ],
      "execution_count": 3,
      "outputs": [
        {
          "output_type": "stream",
          "name": "stdout",
          "text": [
            "Elapsed time of the first call:  0.008601056999999912 sec.\n",
            "Mean elapsed time:  0.005660160999999997 sec.\n"
          ]
        }
      ]
    },
    {
      "cell_type": "code",
      "metadata": {
        "id": "VoAttZKHXo9N"
      },
      "source": [
        "import jax.numpy as jnp\n",
        "from jax import jit\n",
        "\n",
        "def smith_waterman_jax_no_jit(sequences0, sequences1):\n",
        "  n = sequences0.shape[1]\n",
        "  len_seq0 = sequences0.shape[0]\n",
        "  len_seq1 = sequences1.shape[0]\n",
        "  tmp_cell_score = jnp.empty((4, n), dtype=np.int)\n",
        "  tmp_score = jnp.empty((n), dtype=np.int)\n",
        "  cell_score = jnp.empty((n), dtype=np.int)\n",
        "\n",
        "  tmp_best_score = jnp.empty((2, n), dtype=np.int)\n",
        "  \n",
        "  tmp_cell_score.at[0].set(0)\n",
        "  score_array = jnp.zeros((len_seq1 + 1, n), dtype=np.int)\n",
        "  best_score = jnp.full((n), fill_value=-1, dtype=np.int)\n",
        "  for i0 in range(len_seq0):\n",
        "    c0 = sequences0[i0]\n",
        "    prev_score = jnp.zeros((n), dtype=np.int)\n",
        "    for i1 in range(len_seq1):\n",
        "      c1 = sequences1[i1]\n",
        "      tmp_score = jnp.where(c0 == c1, match_score, mismatch_score)\n",
        "      tmp_score += prev_score\n",
        "      tmp_cell_score.at[1].set(tmp_score)\n",
        "      tmp_cell_score.at[2].set(score_array[i1, :] + gap_score)\n",
        "      tmp_cell_score.at[3].set(score_array[i1 + 1, :] + gap_score)\n",
        "      cell_score = tmp_cell_score.max(axis=0)\n",
        "      tmp_best_score.at[0].set(best_score)\n",
        "      tmp_best_score.at[1].set(cell_score)\n",
        "      best_score = tmp_best_score.max(axis=0)\n",
        "\n",
        "      prev_score = score_array[i1 + 1, :]\n",
        "      score_array.at[i1 + 1].set(cell_score)\n",
        "  return best_score"
      ],
      "execution_count": 4,
      "outputs": []
    },
    {
      "cell_type": "code",
      "metadata": {
        "id": "wAtCzWX2Xjpo"
      },
      "source": [
        "import jax.numpy as jnp\n",
        "from jax import jit\n",
        "\n",
        "@jit\n",
        "def smith_waterman_jax_jit(sequences0, sequences1):\n",
        "  n = sequences0.shape[1]\n",
        "  len_seq0 = sequences0.shape[0]\n",
        "  len_seq1 = sequences1.shape[0]\n",
        "  tmp_cell_score = jnp.empty((4, n), dtype=np.int)\n",
        "  tmp_score = jnp.empty((n), dtype=np.int)\n",
        "  cell_score = jnp.empty((n), dtype=np.int)\n",
        "\n",
        "  tmp_best_score = jnp.empty((2, n), dtype=np.int)\n",
        "  \n",
        "  tmp_cell_score.at[0].set(0)\n",
        "  score_array = jnp.zeros((len_seq1 + 1, n), dtype=np.int)\n",
        "  best_score = jnp.full((n), fill_value=-1, dtype=np.int)\n",
        "  for i0 in range(len_seq0):\n",
        "    c0 = sequences0[i0]\n",
        "    prev_score = jnp.zeros((n), dtype=np.int)\n",
        "    for i1 in range(len_seq1):\n",
        "      c1 = sequences1[i1]\n",
        "      tmp_score = jnp.where(c0 == c1, match_score, mismatch_score)\n",
        "      tmp_score += prev_score\n",
        "      tmp_cell_score.at[1].set(tmp_score)\n",
        "      tmp_cell_score.at[2].set(score_array[i1, :] + gap_score)\n",
        "      tmp_cell_score.at[3].set(score_array[i1 + 1, :] + gap_score)\n",
        "      cell_score = tmp_cell_score.max(axis=0)\n",
        "      tmp_best_score.at[0].set(best_score)\n",
        "      tmp_best_score.at[1].set(cell_score)\n",
        "      best_score = tmp_best_score.max(axis=0)\n",
        "\n",
        "      prev_score = score_array[i1 + 1, :]\n",
        "      score_array.at[i1 + 1].set(cell_score)\n",
        "  return best_score"
      ],
      "execution_count": 5,
      "outputs": []
    },
    {
      "cell_type": "code",
      "metadata": {
        "colab": {
          "base_uri": "https://localhost:8080/"
        },
        "id": "0eouNMUmXwgl",
        "outputId": "6a20228e-a90f-4022-bb9e-fb19254fae8b"
      },
      "source": [
        "import time\n",
        "\n",
        "loop = 5\n",
        "sequences0_jnp = jnp.array(sequences0)\n",
        "sequences1_jnp = jnp.array(sequences1)\n",
        "\n",
        "start_time = time.process_time()\n",
        "best_score = smith_waterman_jax_no_jit(sequences0_jnp, sequences1_jnp)\n",
        "best_score.block_until_ready()\n",
        "end_time = time.process_time()\n",
        "print(\"Elapsed time of the first call: \", (end_time - start_time), \"sec.\")\n",
        "\n",
        "start_time = time.process_time()\n",
        "for _ in range(loop):\n",
        "  best_score = smith_waterman_jax_no_jit(sequences0_jnp, sequences1_jnp)\n",
        "  best_score.block_until_ready()\n",
        "end_time = time.process_time()\n",
        "print(\"Mean elapsed time: \", (end_time - start_time)/loop, \"sec.\")"
      ],
      "execution_count": 6,
      "outputs": [
        {
          "output_type": "stream",
          "name": "stderr",
          "text": [
            "WARNING:absl:No GPU/TPU found, falling back to CPU. (Set TF_CPP_MIN_LOG_LEVEL=0 and rerun for more info.)\n"
          ]
        },
        {
          "output_type": "stream",
          "name": "stdout",
          "text": [
            "Elapsed time of the first call:  3.249635192 sec.\n",
            "Mean elapsed time:  2.9043933613999995 sec.\n"
          ]
        }
      ]
    },
    {
      "cell_type": "code",
      "metadata": {
        "colab": {
          "base_uri": "https://localhost:8080/"
        },
        "id": "OLddXCOFsFf4",
        "outputId": "5852e909-cb65-4ea0-ce7b-27f3f68397c0"
      },
      "source": [
        "import time\n",
        "\n",
        "loop = 5\n",
        "sequences0_jnp = jnp.array(sequences0)\n",
        "sequences1_jnp = jnp.array(sequences1)\n",
        "\n",
        "start_time = time.process_time()\n",
        "best_score = smith_waterman_jax_jit(sequences0_jnp, sequences1_jnp)\n",
        "best_score.block_until_ready()\n",
        "end_time = time.process_time()\n",
        "print(\"Elapsed time of the first call: \", (end_time - start_time), \"sec.\")\n",
        "\n",
        "start_time = time.process_time()\n",
        "for _ in range(loop):\n",
        "  best_score = smith_waterman_jax_jit(sequences0_jnp, sequences1_jnp)\n",
        "  best_score.block_until_ready()\n",
        "end_time = time.process_time()\n",
        "print(\"Mean elapsed time: \", (end_time - start_time)/loop, \"sec.\")"
      ],
      "execution_count": 7,
      "outputs": [
        {
          "output_type": "stream",
          "name": "stdout",
          "text": [
            "Elapsed time of the first call:  13.101410306000002 sec.\n",
            "Mean elapsed time:  0.00010633800000050541 sec.\n"
          ]
        }
      ]
    }
  ]
}